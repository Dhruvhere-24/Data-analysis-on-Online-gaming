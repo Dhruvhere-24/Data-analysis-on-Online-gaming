{
 "cells": [
  {
   "cell_type": "markdown",
   "metadata": {},
   "source": [
    "Import section"
   ]
  },
  {
   "cell_type": "code",
   "execution_count": 1,
   "metadata": {},
   "outputs": [],
   "source": [
    "import pandas as pd\n",
    "import matplotlib.pyplot as plt"
   ]
  },
  {
   "cell_type": "code",
   "execution_count": 2,
   "metadata": {},
   "outputs": [
    {
     "data": {
      "text/html": [
       "<div>\n",
       "<style scoped>\n",
       "    .dataframe tbody tr th:only-of-type {\n",
       "        vertical-align: middle;\n",
       "    }\n",
       "\n",
       "    .dataframe tbody tr th {\n",
       "        vertical-align: top;\n",
       "    }\n",
       "\n",
       "    .dataframe thead th {\n",
       "        text-align: right;\n",
       "    }\n",
       "</style>\n",
       "<table border=\"1\" class=\"dataframe\">\n",
       "  <thead>\n",
       "    <tr style=\"text-align: right;\">\n",
       "      <th></th>\n",
       "      <th>Time</th>\n",
       "      <th>Source</th>\n",
       "      <th>Destination</th>\n",
       "      <th>Protocol</th>\n",
       "      <th>Country</th>\n",
       "      <th>Region</th>\n",
       "      <th>City</th>\n",
       "      <th>Org</th>\n",
       "      <th>Longitude</th>\n",
       "      <th>Latitude</th>\n",
       "      <th>Connection</th>\n",
       "      <th>Length</th>\n",
       "      <th>ARTT</th>\n",
       "    </tr>\n",
       "  </thead>\n",
       "  <tbody>\n",
       "    <tr>\n",
       "      <th>0</th>\n",
       "      <td>2024-08-19 11:45:20</td>\n",
       "      <td>162.249.72.4</td>\n",
       "      <td>192.168.1.19</td>\n",
       "      <td>UDP</td>\n",
       "      <td>US</td>\n",
       "      <td>California</td>\n",
       "      <td>Los Angeles</td>\n",
       "      <td>AS6507 Riot Games, Inc</td>\n",
       "      <td>-118.448700</td>\n",
       "      <td>34.044700</td>\n",
       "      <td>ADSL</td>\n",
       "      <td>21415</td>\n",
       "      <td>64</td>\n",
       "    </tr>\n",
       "    <tr>\n",
       "      <th>1</th>\n",
       "      <td>2024-08-19 11:45:20</td>\n",
       "      <td>192.168.1.19</td>\n",
       "      <td>162.249.72.4</td>\n",
       "      <td>UDP</td>\n",
       "      <td>EG</td>\n",
       "      <td>Cairo</td>\n",
       "      <td>Cairo</td>\n",
       "      <td>Etisalat</td>\n",
       "      <td>30.048255</td>\n",
       "      <td>31.233643</td>\n",
       "      <td>ADSL</td>\n",
       "      <td>4278</td>\n",
       "      <td>66</td>\n",
       "    </tr>\n",
       "    <tr>\n",
       "      <th>2</th>\n",
       "      <td>2024-08-19 11:45:21</td>\n",
       "      <td>162.249.72.4</td>\n",
       "      <td>192.168.1.19</td>\n",
       "      <td>UDP</td>\n",
       "      <td>US</td>\n",
       "      <td>California</td>\n",
       "      <td>Los Angeles</td>\n",
       "      <td>AS6507 Riot Games, Inc</td>\n",
       "      <td>-118.448700</td>\n",
       "      <td>34.044700</td>\n",
       "      <td>ADSL</td>\n",
       "      <td>485</td>\n",
       "      <td>63</td>\n",
       "    </tr>\n",
       "    <tr>\n",
       "      <th>3</th>\n",
       "      <td>2024-08-19 11:45:21</td>\n",
       "      <td>192.168.1.19</td>\n",
       "      <td>162.249.72.4</td>\n",
       "      <td>UDP</td>\n",
       "      <td>EG</td>\n",
       "      <td>Cairo</td>\n",
       "      <td>Cairo</td>\n",
       "      <td>Etisalat</td>\n",
       "      <td>30.048255</td>\n",
       "      <td>31.233643</td>\n",
       "      <td>ADSL</td>\n",
       "      <td>500</td>\n",
       "      <td>66</td>\n",
       "    </tr>\n",
       "    <tr>\n",
       "      <th>4</th>\n",
       "      <td>2024-08-19 11:45:22</td>\n",
       "      <td>162.249.72.4</td>\n",
       "      <td>192.168.1.19</td>\n",
       "      <td>UDP</td>\n",
       "      <td>US</td>\n",
       "      <td>California</td>\n",
       "      <td>Los Angeles</td>\n",
       "      <td>AS6507 Riot Games, Inc</td>\n",
       "      <td>-118.448700</td>\n",
       "      <td>34.044700</td>\n",
       "      <td>ADSL</td>\n",
       "      <td>120</td>\n",
       "      <td>63</td>\n",
       "    </tr>\n",
       "  </tbody>\n",
       "</table>\n",
       "</div>"
      ],
      "text/plain": [
       "                  Time        Source   Destination Protocol Country  \\\n",
       "0  2024-08-19 11:45:20  162.249.72.4  192.168.1.19      UDP      US   \n",
       "1  2024-08-19 11:45:20  192.168.1.19  162.249.72.4      UDP      EG   \n",
       "2  2024-08-19 11:45:21  162.249.72.4  192.168.1.19      UDP      US   \n",
       "3  2024-08-19 11:45:21  192.168.1.19  162.249.72.4      UDP      EG   \n",
       "4  2024-08-19 11:45:22  162.249.72.4  192.168.1.19      UDP      US   \n",
       "\n",
       "       Region         City                     Org   Longitude   Latitude  \\\n",
       "0  California  Los Angeles  AS6507 Riot Games, Inc -118.448700  34.044700   \n",
       "1       Cairo        Cairo                Etisalat   30.048255  31.233643   \n",
       "2  California  Los Angeles  AS6507 Riot Games, Inc -118.448700  34.044700   \n",
       "3       Cairo        Cairo                Etisalat   30.048255  31.233643   \n",
       "4  California  Los Angeles  AS6507 Riot Games, Inc -118.448700  34.044700   \n",
       "\n",
       "  Connection  Length  ARTT  \n",
       "0       ADSL   21415    64  \n",
       "1       ADSL    4278    66  \n",
       "2       ADSL     485    63  \n",
       "3       ADSL     500    66  \n",
       "4       ADSL     120    63  "
      ]
     },
     "execution_count": 2,
     "metadata": {},
     "output_type": "execute_result"
    }
   ],
   "source": [
    "g1 = pd.read_csv(\"g1.csv\")\n",
    "g1.head()"
   ]
  },
  {
   "cell_type": "code",
   "execution_count": 3,
   "metadata": {},
   "outputs": [
    {
     "name": "stdout",
     "output_type": "stream",
     "text": [
      "<class 'pandas.core.frame.DataFrame'>\n",
      "RangeIndex: 4158 entries, 0 to 4157\n",
      "Data columns (total 13 columns):\n",
      " #   Column       Non-Null Count  Dtype  \n",
      "---  ------       --------------  -----  \n",
      " 0   Time         4158 non-null   object \n",
      " 1   Source       4158 non-null   object \n",
      " 2   Destination  4158 non-null   object \n",
      " 3   Protocol     4158 non-null   object \n",
      " 4   Country      4158 non-null   object \n",
      " 5   Region       4158 non-null   object \n",
      " 6   City         4158 non-null   object \n",
      " 7   Org          4158 non-null   object \n",
      " 8   Longitude    4158 non-null   float64\n",
      " 9   Latitude     4158 non-null   float64\n",
      " 10  Connection   4158 non-null   object \n",
      " 11  Length       4158 non-null   int64  \n",
      " 12  ARTT         4158 non-null   int64  \n",
      "dtypes: float64(2), int64(2), object(9)\n",
      "memory usage: 422.4+ KB\n"
     ]
    }
   ],
   "source": [
    "g1.info()"
   ]
  },
  {
   "cell_type": "code",
   "execution_count": 4,
   "metadata": {},
   "outputs": [
    {
     "data": {
      "text/html": [
       "<div>\n",
       "<style scoped>\n",
       "    .dataframe tbody tr th:only-of-type {\n",
       "        vertical-align: middle;\n",
       "    }\n",
       "\n",
       "    .dataframe tbody tr th {\n",
       "        vertical-align: top;\n",
       "    }\n",
       "\n",
       "    .dataframe thead th {\n",
       "        text-align: right;\n",
       "    }\n",
       "</style>\n",
       "<table border=\"1\" class=\"dataframe\">\n",
       "  <thead>\n",
       "    <tr style=\"text-align: right;\">\n",
       "      <th></th>\n",
       "      <th>Longitude</th>\n",
       "      <th>Latitude</th>\n",
       "      <th>Length</th>\n",
       "      <th>ARTT</th>\n",
       "    </tr>\n",
       "  </thead>\n",
       "  <tbody>\n",
       "    <tr>\n",
       "      <th>count</th>\n",
       "      <td>4158.000000</td>\n",
       "      <td>4158.000000</td>\n",
       "      <td>4158.000000</td>\n",
       "      <td>4158.000000</td>\n",
       "    </tr>\n",
       "    <tr>\n",
       "      <th>mean</th>\n",
       "      <td>-44.271650</td>\n",
       "      <td>32.640523</td>\n",
       "      <td>5570.127946</td>\n",
       "      <td>64.520683</td>\n",
       "    </tr>\n",
       "    <tr>\n",
       "      <th>std</th>\n",
       "      <td>74.257373</td>\n",
       "      <td>1.405697</td>\n",
       "      <td>8239.170569</td>\n",
       "      <td>1.024093</td>\n",
       "    </tr>\n",
       "    <tr>\n",
       "      <th>min</th>\n",
       "      <td>-118.448700</td>\n",
       "      <td>31.233643</td>\n",
       "      <td>69.000000</td>\n",
       "      <td>60.000000</td>\n",
       "    </tr>\n",
       "    <tr>\n",
       "      <th>25%</th>\n",
       "      <td>-118.448700</td>\n",
       "      <td>31.233643</td>\n",
       "      <td>1450.250000</td>\n",
       "      <td>64.000000</td>\n",
       "    </tr>\n",
       "    <tr>\n",
       "      <th>50%</th>\n",
       "      <td>-118.448700</td>\n",
       "      <td>34.044700</td>\n",
       "      <td>2453.000000</td>\n",
       "      <td>65.000000</td>\n",
       "    </tr>\n",
       "    <tr>\n",
       "      <th>75%</th>\n",
       "      <td>30.048255</td>\n",
       "      <td>34.044700</td>\n",
       "      <td>4634.500000</td>\n",
       "      <td>65.000000</td>\n",
       "    </tr>\n",
       "    <tr>\n",
       "      <th>max</th>\n",
       "      <td>30.048255</td>\n",
       "      <td>34.044700</td>\n",
       "      <td>67557.000000</td>\n",
       "      <td>70.000000</td>\n",
       "    </tr>\n",
       "  </tbody>\n",
       "</table>\n",
       "</div>"
      ],
      "text/plain": [
       "         Longitude     Latitude        Length         ARTT\n",
       "count  4158.000000  4158.000000   4158.000000  4158.000000\n",
       "mean    -44.271650    32.640523   5570.127946    64.520683\n",
       "std      74.257373     1.405697   8239.170569     1.024093\n",
       "min    -118.448700    31.233643     69.000000    60.000000\n",
       "25%    -118.448700    31.233643   1450.250000    64.000000\n",
       "50%    -118.448700    34.044700   2453.000000    65.000000\n",
       "75%      30.048255    34.044700   4634.500000    65.000000\n",
       "max      30.048255    34.044700  67557.000000    70.000000"
      ]
     },
     "execution_count": 4,
     "metadata": {},
     "output_type": "execute_result"
    }
   ],
   "source": [
    "g1.describe()"
   ]
  },
  {
   "cell_type": "code",
   "execution_count": 5,
   "metadata": {},
   "outputs": [
    {
     "data": {
      "image/png": "[encoded data removed]",
      "text/plain": [
       "<Figure size 640x480 with 1 Axes>"
      ]
     },
     "metadata": {},
     "output_type": "display_data"
    }
   ],
   "source": [
    "# Count occurrences\n",
    "region_counts = g1[\"Region\"].value_counts()\n",
    "california_count = region_counts.get(\"California\", 0)\n",
    "cairo_count = region_counts.get(\"Cairo\", 0)\n",
    "\n",
    "# Data for the bar chart\n",
    "regions = [\"California\", \"Cairo\"]\n",
    "counts = [california_count, cairo_count]\n",
    "\n",
    "# Plot\n",
    "plt.bar(regions, counts, color=[\"blue\", \"red\"])\n",
    "\n",
    "# Add text on bars\n",
    "for i, count in enumerate(counts):\n",
    "    plt.text(i, count + 1, str(count), ha='center', fontsize=12, fontweight='bold')\n",
    "\n",
    "# Labels and title\n",
    "plt.xlabel(\"Region\")\n",
    "plt.ylabel(\"Count\")\n",
    "plt.title(\"Occurrences of California and Cairo in Region Column\")\n",
    "\n",
    "plt.show()\n"
   ]
  },
  {
   "cell_type": "code",
   "execution_count": 6,
   "metadata": {},
   "outputs": [
    {
     "data": {
      "text/plain": [
       "City\n",
       "Los Angeles    2081\n",
       "Cairo          2077\n",
       "Name: count, dtype: int64"
      ]
     },
     "execution_count": 6,
     "metadata": {},
     "output_type": "execute_result"
    }
   ],
   "source": [
    "g1[\"City\"].value_counts()"
   ]
  },
  {
   "cell_type": "code",
   "execution_count": 7,
   "metadata": {},
   "outputs": [
    {
     "data": {
      "text/plain": [
       "Org\n",
       "AS6507 Riot Games, Inc    2081\n",
       "Etisalat                  2077\n",
       "Name: count, dtype: int64"
      ]
     },
     "execution_count": 7,
     "metadata": {},
     "output_type": "execute_result"
    }
   ],
   "source": [
    "g1[\"Org\"].value_counts()"
   ]
  },
  {
   "cell_type": "code",
   "execution_count": 8,
   "metadata": {},
   "outputs": [
    {
     "data": {
      "text/plain": [
       "Connection\n",
       "ADSL    4158\n",
       "Name: count, dtype: int64"
      ]
     },
     "execution_count": 8,
     "metadata": {},
     "output_type": "execute_result"
    }
   ],
   "source": [
    "g1[\"Connection\"].value_counts()"
   ]
  },
  {
   "cell_type": "code",
   "execution_count": 9,
   "metadata": {},
   "outputs": [
    {
     "data": {
      "text/plain": [
       "Protocol\n",
       "UDP    4158\n",
       "Name: count, dtype: int64"
      ]
     },
     "execution_count": 9,
     "metadata": {},
     "output_type": "execute_result"
    }
   ],
   "source": [
    "g1[\"Protocol\"].value_counts()"
   ]
  },
  {
   "cell_type": "code",
   "execution_count": 10,
   "metadata": {},
   "outputs": [
    {
     "data": {
      "text/plain": [
       "Country\n",
       "US    2081\n",
       "EG    2077\n",
       "Name: count, dtype: int64"
      ]
     },
     "execution_count": 10,
     "metadata": {},
     "output_type": "execute_result"
    }
   ],
   "source": [
    "g1[\"Country\"].value_counts()"
   ]
  },
  {
   "cell_type": "code",
   "execution_count": 11,
   "metadata": {},
   "outputs": [
    {
     "data": {
      "text/html": [
       "<div>\n",
       "<style scoped>\n",
       "    .dataframe tbody tr th:only-of-type {\n",
       "        vertical-align: middle;\n",
       "    }\n",
       "\n",
       "    .dataframe tbody tr th {\n",
       "        vertical-align: top;\n",
       "    }\n",
       "\n",
       "    .dataframe thead th {\n",
       "        text-align: right;\n",
       "    }\n",
       "</style>\n",
       "<table border=\"1\" class=\"dataframe\">\n",
       "  <thead>\n",
       "    <tr style=\"text-align: right;\">\n",
       "      <th></th>\n",
       "      <th>Time</th>\n",
       "      <th>Source</th>\n",
       "      <th>Destination</th>\n",
       "      <th>Protocol</th>\n",
       "      <th>Country</th>\n",
       "      <th>Region</th>\n",
       "      <th>City</th>\n",
       "      <th>Org</th>\n",
       "      <th>Longitude</th>\n",
       "      <th>Latitude</th>\n",
       "      <th>Connection</th>\n",
       "      <th>Length</th>\n",
       "      <th>ARTT</th>\n",
       "    </tr>\n",
       "  </thead>\n",
       "  <tbody>\n",
       "    <tr>\n",
       "      <th>0</th>\n",
       "      <td>2024-08-19 11:45:20</td>\n",
       "      <td>162.249.72.4</td>\n",
       "      <td>192.168.1.19</td>\n",
       "      <td>UDP</td>\n",
       "      <td>US</td>\n",
       "      <td>California</td>\n",
       "      <td>Los Angeles</td>\n",
       "      <td>AS6507 Riot Games, Inc</td>\n",
       "      <td>-118.448700</td>\n",
       "      <td>34.044700</td>\n",
       "      <td>ADSL</td>\n",
       "      <td>21415</td>\n",
       "      <td>64</td>\n",
       "    </tr>\n",
       "    <tr>\n",
       "      <th>1</th>\n",
       "      <td>2024-08-19 11:45:20</td>\n",
       "      <td>192.168.1.19</td>\n",
       "      <td>162.249.72.4</td>\n",
       "      <td>UDP</td>\n",
       "      <td>EG</td>\n",
       "      <td>Cairo</td>\n",
       "      <td>Cairo</td>\n",
       "      <td>Etisalat</td>\n",
       "      <td>30.048255</td>\n",
       "      <td>31.233643</td>\n",
       "      <td>ADSL</td>\n",
       "      <td>4278</td>\n",
       "      <td>66</td>\n",
       "    </tr>\n",
       "  </tbody>\n",
       "</table>\n",
       "</div>"
      ],
      "text/plain": [
       "                  Time        Source   Destination Protocol Country  \\\n",
       "0  2024-08-19 11:45:20  162.249.72.4  192.168.1.19      UDP      US   \n",
       "1  2024-08-19 11:45:20  192.168.1.19  162.249.72.4      UDP      EG   \n",
       "\n",
       "       Region         City                     Org   Longitude   Latitude  \\\n",
       "0  California  Los Angeles  AS6507 Riot Games, Inc -118.448700  34.044700   \n",
       "1       Cairo        Cairo                Etisalat   30.048255  31.233643   \n",
       "\n",
       "  Connection  Length  ARTT  \n",
       "0       ADSL   21415    64  \n",
       "1       ADSL    4278    66  "
      ]
     },
     "execution_count": 11,
     "metadata": {},
     "output_type": "execute_result"
    }
   ],
   "source": [
    "g1.head(2)"
   ]
  },
  {
   "cell_type": "code",
   "execution_count": 12,
   "metadata": {},
   "outputs": [
    {
     "data": {
      "image/png": "[encoded data removed]",
      "text/plain": [
       "<Figure size 640x480 with 1 Axes>"
      ]
     },
     "metadata": {},
     "output_type": "display_data"
    }
   ],
   "source": [
    "g1[\"Source\"].value_counts().head(10).plot(kind=\"barh\", title=\"Traffic Sources\")\n",
    "plt.show()\n"
   ]
  },
  {
   "cell_type": "code",
   "execution_count": 13,
   "metadata": {},
   "outputs": [
    {
     "data": {
      "image/png": "[encoded data removed]",
      "text/plain": [
       "<Figure size 1000x500 with 1 Axes>"
      ]
     },
     "metadata": {},
     "output_type": "display_data"
    }
   ],
   "source": [
    "g1[\"Time\"] = pd.to_datetime(g1[\"Time\"])\n",
    "# Group by hour and count occurrences\n",
    "g1[\"Hour\"] = g1[\"Time\"].dt.hour\n",
    "hourly_counts = g1[\"Hour\"].value_counts().sort_index()\n",
    "\n",
    "# Plot\n",
    "plt.figure(figsize=(10, 5))\n",
    "plt.plot(hourly_counts.index, hourly_counts.values, marker=\"o\", linestyle=\"-\", color=\"b\")\n",
    "plt.xlabel(\"Hour of the Day\")\n",
    "plt.ylabel(\"Number of Connections\")\n",
    "plt.title(\"Network Traffic by Hour\")\n",
    "plt.xticks(range(0, 24))  # Show all hours from 0 to 23\n",
    "plt.grid(True)\n",
    "plt.show()\n"
   ]
  },
  {
   "cell_type": "markdown",
   "metadata": {},
   "source": [
    "Analyzing a single file is insufficient for a comprehensive traffic analysis; combining multiple datasets provides deeper insights into trends and patterns.\n"
   ]
  }
 ],
 "metadata": {
  "kernelspec": {
   "display_name": "Python 3",
   "language": "python",
   "name": "python3"
  },
  "language_info": {
   "codemirror_mode": {
    "name": "ipython",
    "version": 3
   },
   "file_extension": ".py",
   "mimetype": "text/x-python",
   "name": "python",
   "nbconvert_exporter": "python",
   "pygments_lexer": "ipython3",
   "version": "3.13.2"
  }
 },
 "nbformat": 4,
 "nbformat_minor": 2
}
